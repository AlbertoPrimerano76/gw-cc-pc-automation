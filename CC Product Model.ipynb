{
 "cells": [
  {
   "cell_type": "markdown",
   "id": "64c2aded-21ca-448e-89b0-0d47cf5be83d",
   "metadata": {},
   "source": [
    "# ClaimCenter Product Model Workbook\n",
    "\n",
    "This workbook contains code to be used with ClaimCenter and PolicyCenter for product model definition and GTC.\n",
    "It needs to be updated to became a proper program"
   ]
  },
  {
   "cell_type": "markdown",
   "id": "32fe9a17-6e88-46c7-b200-1a87c5b03681",
   "metadata": {},
   "source": [
    "## Some usefull details"
   ]
  },
  {
   "cell_type": "markdown",
   "id": "69605024-d66a-4d5b-b94c-349b562ed215",
   "metadata": {
    "jp-MarkdownHeadingCollapsed": true
   },
   "source": [
    "### Import libraries"
   ]
  },
  {
   "cell_type": "code",
   "execution_count": 158,
   "id": "a23f3964-6319-4d3c-a551-1bc788dc8788",
   "metadata": {},
   "outputs": [],
   "source": [
    "import os\n",
    "import shutil\n",
    "import fnmatch\n",
    "import subprocess\n",
    "import pandas as pd\n",
    "import numpy as np\n",
    "from lxml import etree\n",
    "import re"
   ]
  },
  {
   "cell_type": "markdown",
   "id": "f4b8e814-ecd0-4be4-9f83-2c44585c846e",
   "metadata": {
    "jp-MarkdownHeadingCollapsed": true
   },
   "source": [
    "### Copy files\n",
    "\n",
    "Copy files of specific pattern from source to destination"
   ]
  },
  {
   "cell_type": "code",
   "execution_count": 22,
   "id": "7559215d-29b3-48b9-89e1-1a3d41b2ef63",
   "metadata": {},
   "outputs": [],
   "source": [
    "def copy_files(source_folder, destination_folder, files_or_pattern):\n",
    "    \"\"\"\n",
    "    Copy specified files from the source folder to the destination folder.\n",
    "\n",
    "    Parameters:\n",
    "    - source_folder (str): The path to the source folder.\n",
    "    - destination_folder (str): The path to the destination folder.\n",
    "    - files_or_pattern (list or str): Either a list of files to copy or a pattern to match files.\n",
    "\n",
    "    If files_or_pattern is a list, the specified files will be copied.\n",
    "    If files_or_pattern is a string, it will be treated as a pattern to find matching files.\n",
    "\n",
    "    Example usage:\n",
    "    copy_files('/path/to/source', '/path/to/destination', ['file1.txt', 'file2.txt'])\n",
    "    OR\n",
    "    copy_files('/path/to/source', '/path/to/destination', 'typelist*.properties')\n",
    "    \"\"\"\n",
    "    if isinstance(files_or_pattern, list):\n",
    "        # If files_or_pattern is a list, copy the specified files\n",
    "        files_to_copy = files_or_pattern\n",
    "    elif isinstance(files_or_pattern, str):\n",
    "        # If files_or_pattern is a string, treat it as a pattern and find matching files\n",
    "        files_to_copy = [file_name for file_name in os.listdir(source_folder) if fnmatch.fnmatch(file_name, files_or_pattern)]\n",
    "    else:\n",
    "        print(\"Invalid input. Please provide a list of files or a valid pattern.\")\n",
    "        return\n",
    "    if not os.path.exists(destination_folder):\n",
    "        os.makedirs(destination_folder)\n",
    "    # Iterate over the files to copy\n",
    "    for file_name in files_to_copy:\n",
    "        source_path = os.path.join(source_folder, file_name)\n",
    "        destination_path = os.path.join(destination_folder, file_name)\n",
    "        # Copy the file to the destination folder\n",
    "        shutil.copy(source_path, destination_path)\n",
    "        print(f\"Copied {file_name} to {destination_folder}\")"
   ]
  },
  {
   "cell_type": "markdown",
   "id": "888bca44-40a1-4be3-a925-47253cf401a6",
   "metadata": {
    "jp-MarkdownHeadingCollapsed": true
   },
   "source": [
    "### Run command\n",
    "Run a specific command"
   ]
  },
  {
   "cell_type": "code",
   "execution_count": 23,
   "id": "e36c4db4-99d7-4624-becd-b52a9c14e248",
   "metadata": {},
   "outputs": [],
   "source": [
    "def run_command(command, working_directory):\n",
    "    try:\n",
    "        # Save the current working directory\n",
    "        original_directory = os.getcwd()\n",
    "\n",
    "        # Change the current working directory to the specified folder\n",
    "        os.chdir(working_directory)\n",
    "\n",
    "        # Execute the command\n",
    "        subprocess.run(command, shell=True, check=True)\n",
    "    except subprocess.CalledProcessError as e:\n",
    "        print(f\"Error: {e}\")\n",
    "    finally:\n",
    "        # Reset the working directory to the original value\n",
    "        os.chdir(original_directory)"
   ]
  },
  {
   "cell_type": "markdown",
   "id": "41c108c7-08dc-40d0-8ad8-f80ff05c0ec4",
   "metadata": {},
   "source": [
    "### Copy files by extension\n",
    "\n",
    "Copy all files with a given extension"
   ]
  },
  {
   "cell_type": "code",
   "execution_count": 24,
   "id": "397b7300-1d54-4efc-a83c-c92c165a247c",
   "metadata": {},
   "outputs": [],
   "source": [
    "def copy_files_by_extension(source_folder, destination_folder, extension):\n",
    "    try:\n",
    "        # Ensure source folder exists\n",
    "        if not os.path.isdir(source_folder):\n",
    "            print(\"Invalid source folder. Please provide a valid folder path.\")\n",
    "            return\n",
    "        \n",
    "        # Ensure destination folder exists or create it\n",
    "        if not os.path.exists(destination_folder):\n",
    "            os.makedirs(destination_folder)\n",
    "\n",
    "        # Iterate over files in the source folder\n",
    "        for file_name in os.listdir(source_folder):\n",
    "            if file_name.endswith(extension):\n",
    "                source_path = os.path.join(source_folder, file_name)\n",
    "                destination_path = os.path.join(destination_folder, file_name)\n",
    "                \n",
    "                # Copy the file to the destination folder\n",
    "                shutil.copy(source_path, destination_path)\n",
    "                print(f\"Copied {file_name} to {destination_folder}\")\n",
    "\n",
    "    except Exception as e:\n",
    "        print(f\"An error occurred: {e}\")"
   ]
  },
  {
   "cell_type": "markdown",
   "id": "1f63a8b8-78cd-4e74-bbd5-85990b93c29f",
   "metadata": {},
   "source": [
    "### Folders definition"
   ]
  },
  {
   "cell_type": "code",
   "execution_count": 85,
   "id": "3e5c73cf-33e7-43ef-b7f4-58501e763af5",
   "metadata": {},
   "outputs": [],
   "source": [
    "# Applications\n",
    "claimcenter_default_path = \"/ClaimCenter\"\n",
    "policycenter_default_path = \"/PolicyCenter\"\n",
    "product_model_default_path = \"/ProductModel\"\n",
    "configuration_pattern = \"/modules/configuration\"\n",
    "\n",
    "# Details\n",
    "locale_folder = configuration_pattern + \"/config/locale\"\n",
    "typelist_folder = configuration_pattern + \"/config/extensions/typelist\"\n",
    "\n",
    "# Files\n",
    "config_xml_path = configuration_pattern + \"/config/config.xml\"\n",
    "suite_config_xml_path = configuration_pattern + \"/config/suite/suite-config.xml\""
   ]
  },
  {
   "cell_type": "markdown",
   "id": "e0a4e0b5-8bc5-4d46-a11d-4e88d8ce9a8f",
   "metadata": {},
   "source": [
    "## ClaimCenter product model import from PC"
   ]
  },
  {
   "cell_type": "code",
   "execution_count": 26,
   "id": "da3238f9-0335-4cbb-a836-2bff3f92135f",
   "metadata": {},
   "outputs": [
    {
     "name": "stdin",
     "output_type": "stream",
     "text": [
      "Enter the source folder path:  /Users/aprimerano/Development/NZ\n"
     ]
    }
   ],
   "source": [
    "# Get source folder from user\n",
    "initial_path = input(\"Enter the source folder path: \")\n",
    "\n",
    "if not os.path.isdir(initial_path):\n",
    "    print(\"Invalid path please insert an existing path....\")"
   ]
  },
  {
   "cell_type": "markdown",
   "id": "e4f99c30-6fed-4a90-9259-6dcd3698cc65",
   "metadata": {},
   "source": [
    "#### Build relevant folders based on user inputed starting folder"
   ]
  },
  {
   "cell_type": "markdown",
   "id": "945390b3-5eea-499b-8b64-9adf13515e8f",
   "metadata": {},
   "source": [
    "List of relevant files that are part of ClaimCenter product model ..."
   ]
  },
  {
   "cell_type": "code",
   "execution_count": null,
   "id": "cb6b10ce-f166-411a-aada-3ebc5e0c41b6",
   "metadata": {},
   "outputs": [],
   "source": [
    "typelist_to_copy = ['CoverageSubtype.ttx', 'CoverageType.ttx', 'CovTermPattern.ttx',\n",
    "                    'ExposureType.ttx','LOBCode.ttx','LossPartyType.ttx', 'PolicyType.ttx']\n",
    "locale_files_to_copy = \"typelist*.properties\""
   ]
  },
  {
   "cell_type": "code",
   "execution_count": null,
   "id": "701da1f7-11a8-49cb-98f3-113fd160e1d6",
   "metadata": {},
   "outputs": [],
   "source": [
    "# Build the folders\n",
    "claim_center_folder = initial_path + claimcenter_default_path        \n",
    "policy_center_folder = initial_path + policycenter_default_path\n",
    "\n",
    "# Checks that folders exist otherwise return an error\n",
    "if not os.path.isdir(claim_center_folder):\n",
    "    print(\"Invalid source folder. ClaimCenter folder not found....\")\n",
    "if not os.path.isdir(policy_center_folder):\n",
    "    print(\"Invalid source folder. PolicyCenter folder not found....\")\n",
    "\n",
    "product_model_definition_folder = initial_path + product_model_default_path\n",
    "# If product model definition exists otherwise create it\n",
    "if not os.path.exists(product_model_definition_folder):\n",
    "    os.makedirs(product_model_definition_folder)\n",
    "\n",
    "product_model_definition_folder_input = product_model_definition_folder + \"/input\" \n",
    "# Ensure destination folder exists or create it\n",
    "if not os.path.exists(product_model_definition_folder_input):\n",
    "    os.makedirs(product_model_definition_folder_input)\n",
    "\n",
    "product_model_definition_folder_output = product_model_definition_folder + \"/output\"\n",
    "if not os.path.exists(product_model_definition_folder_output):\n",
    "    os.makedirs(product_model_definition_folder_output)"
   ]
  },
  {
   "cell_type": "markdown",
   "id": "517af4db-1180-4840-a0a4-3cbff7b4adf9",
   "metadata": {},
   "source": [
    "This part here should be fine but it has not been tested because the gwb ccTypelistGen command is not working with the studio version ... requires further testing"
   ]
  },
  {
   "cell_type": "code",
   "execution_count": null,
   "id": "76a33688-222e-45d3-8a76-3eabb30f9988",
   "metadata": {},
   "outputs": [],
   "source": [
    "# Following Guidewire documentation\n",
    "# 1. Copy product model Typelist from ClaimCenter Configuration folder\n",
    "copy_files(claim_center_folder + typelist_folder, product_model_definition_folder_input, typelist_to_copy)\n",
    "# 2. Copy locale files from ClaimCenter Configuration folder\n",
    "copy_files(claim_center_folder + locale_folder, product_model_definition_folder_input,locale_files_to_copy) \n",
    "\n",
    "\n",
    "# GWB script to generate ClaimCenter product model\n",
    "typelist_gen_command = \"./gwb ccTypelistGen -Dinput_dir={} -Doutput_dir={} -Dmap_coverages=true -Dcc_app_version=50\"\n",
    "                                .format(product_model_definition_folder_input, product_model_definition_folder_output)\n",
    "\n",
    "# 3. Run gwb ccTypelistGen from PolicyCenter  \n",
    "run_command(typelist_gen_command, policy_center_folder)\n",
    "\n",
    "# 4. Copy new generated files in ClaimCenter configuration folder\n",
    "copy_files_by_extension(product_model_definition_folder_output, claim_center_folder + typelist_folder, \".ttx\")\n",
    "copy_files_by_extension(product_model_definition_folder_output, claim_center_folder + locale_folder,\".properties\")"
   ]
  },
  {
   "cell_type": "markdown",
   "id": "e3b0cf83-1ff9-440f-9f19-7cbce4d9e0de",
   "metadata": {},
   "source": [
    "!!!! Missing Part !!!! create the remaining typelists\n",
    "\n",
    "-> ExposureType (!)\n",
    "-> CoverageSubType linkage with ExposureType"
   ]
  },
  {
   "cell_type": "markdown",
   "id": "6b30e606-b27f-4825-b97b-eb58bad7745b",
   "metadata": {},
   "source": [
    "## Set up CC to PC integration"
   ]
  },
  {
   "cell_type": "code",
   "execution_count": 121,
   "id": "d4212846-2b41-4287-85ec-e73889f52694",
   "metadata": {},
   "outputs": [],
   "source": [
    "def change_xml_values(path, parameter_name,field_to_set,value):\n",
    "    tree = etree.parse(path)\n",
    "    root = tree.getroot()\n",
    "    # Aggiungi un namespace vuoto al documento XML\n",
    "    namespace = \"http://guidewire.com/config\"\n",
    "    xpath_expression = f\".//{{{namespace}}}param[@name='{parameter_name}']\"\n",
    "    for param in root.findall(xpath_expression):\n",
    "        param.set(field_to_set, value)\n",
    "        tree.write(path, xml_declaration=True, encoding='utf-8', method=\"xml\")"
   ]
  },
  {
   "cell_type": "code",
   "execution_count": 160,
   "id": "1f383902-6159-4980-847f-c6fee1fd7e6d",
   "metadata": {},
   "outputs": [],
   "source": [
    "# Cannot use xml  values as the parameter product name does not work well !! Review ...\n",
    "def update_text_file(file_path, product_name, new_url=None):\n",
    "    # Read the content of the text file\n",
    "    with open(file_path, 'r') as file:\n",
    "        lines = file.readlines()\n",
    "    # Iterate through lines and modify if product name is found\n",
    "    updated_lines = []\n",
    "    for line in lines:\n",
    "        if f'product name=\"{product_name}\"' in line:\n",
    "            # Remove <!-- and --> from the line\n",
    "            line = line.replace('<!--', '').replace('-->', '')\n",
    "        if new_url is not None:\n",
    "                # Replace the content of url with the new value\n",
    "                line = re.sub(r'url\\s*=\\s*\"[^\"]+\"', f'url=\"{new_url}\"', line)\n",
    "        updated_lines.append(line)\n",
    "    # Write the modified content back to the text file\n",
    "    with open(file_path, 'w') as file:\n",
    "        file.writelines(updated_lines)"
   ]
  },
  {
   "cell_type": "markdown",
   "id": "46f4eeed-f642-43cb-b4e8-378aa2f36b1e",
   "metadata": {},
   "source": [
    "### Modifico i files in ClaimCenter"
   ]
  },
  {
   "cell_type": "code",
   "execution_count": 113,
   "id": "59eecb66-716b-4506-83b3-9417109adf53",
   "metadata": {},
   "outputs": [
    {
     "name": "stdout",
     "output_type": "stream",
     "text": [
      "<Element {http://guidewire.com/config}param at 0x11eaf7080>\n",
      "<Element {http://guidewire.com/config}param at 0x13c2f34c0>\n",
      "<Element {http://guidewire.com/config}param at 0x13c1f52c0>\n",
      "<Element {http://guidewire.com/config}param at 0x13c2f2340>\n",
      "<Element {http://guidewire.com/config}param at 0x13c2f1340>\n"
     ]
    }
   ],
   "source": [
    "claimcenter_config_xml_path = claim_center_folder + config_xml_path\n",
    "claimcenter_suite_config_xml_path = claim_center_folder + suite_config_xml_path\n",
    "policycenter_default_url = \"http://localhost:8180/pc/\"\n",
    "# Change the suite-config file to enable PC\n",
    "update_text_file(claimcenter_config_xml_path, \"pc\")\n",
    "# Set the PolicyCenter standar URL in case fix it\n",
    "change_xml_values(claimcenter_config_xml_path, \"PolicySystemURL\", \"value\", policycenter_default_url)\n",
    "# Set the web services hide to false\n",
    "change_xml_values(claimcenter_config_xml_path, \"WebservicesHideListPage\", \"value\", \"false\")\n",
    "change_xml_values(claimcenter_config_xml_path, \"WebservicesHideDetails\", \"value\", \"false\")"
   ]
  },
  {
   "cell_type": "markdown",
   "id": "5a03261f-cf58-4d3b-ba71-a5c30f9ce727",
   "metadata": {},
   "source": [
    "### Modifico i files in PoliycCenter"
   ]
  },
  {
   "cell_type": "code",
   "execution_count": 82,
   "id": "872506f1-79fa-4717-9d80-c48299e3c785",
   "metadata": {},
   "outputs": [],
   "source": [
    "policycenter_config_xml_path = policy_center_folder + config_xml_path\n",
    "# Set the web services hide to false\n",
    "change_xml_values(policycenter_config_xml_path, \"WebservicesHideListPage\", \"value\", \"false\")\n",
    "change_xml_values(policycenter_config_xml_path, \"WebservicesHideDetails\", \"value\", \"false\")"
   ]
  },
  {
   "cell_type": "markdown",
   "id": "0d03ce50-0b20-4020-acf3-70a11ab26fa9",
   "metadata": {},
   "source": [
    "## Create line of business details in ClaimCenter"
   ]
  },
  {
   "cell_type": "markdown",
   "id": "7afef9ca-3f4c-40af-9ebc-4040f9283521",
   "metadata": {},
   "source": [
    "Create the Policy.etx file (please not that needs to be reviewed as it does not work the skip when the code is already in there..."
   ]
  },
  {
   "cell_type": "markdown",
   "id": "7dc23e07-5d37-4243-8417-a1e4f176b555",
   "metadata": {},
   "source": [
    "### Methods"
   ]
  },
  {
   "cell_type": "code",
   "execution_count": 177,
   "id": "c390977e-673e-4010-91ee-05c78e5278db",
   "metadata": {},
   "outputs": [],
   "source": [
    "# Create the file from scratch\n",
    "def create_xml_file(input_string, file_path):\n",
    "    # Create the root element\n",
    "    root = etree.Element('extension', xmlns=\"http://guidewire.com/datamodel\", entityName=\"Policy\")\n",
    "\n",
    "    # Create the 'onetoone' element\n",
    "    onetoone_element = etree.SubElement(root, 'onetoone', desc=\"Foreign key to the Custom Line details\")\n",
    "\n",
    "    # Build name and fkentity based on the input string\n",
    "    name = input_string.strip().replace(\" \", \"\") + \"LineDetails\"\n",
    "    fkentity = name + \"_Ext\"\n",
    "\n",
    "    # Set attributes for the 'onetoone' element\n",
    "    onetoone_element.set('name', name)\n",
    "    onetoone_element.set('fkentity', fkentity)\n",
    "    onetoone_element.set('nullok', 'true')\n",
    "\n",
    "    # Create the XML tree\n",
    "    tree = etree.ElementTree(root)\n",
    "    \n",
    "    # Write the tree to the specified file path\n",
    "    tree.write(file_path, encoding='utf-8', xml_declaration=True)\n",
    "\n",
    "\n",
    "def add_policy_onetoone_ext(input_string, file_path):\n",
    "    # Check if the file already exists\n",
    "    if os.path.exists(file_path):\n",
    "        # Load the existing XML file\n",
    "        tree = etree.parse(file_path)\n",
    "        root = tree.getroot()\n",
    "\n",
    "        # Build name and fkentity based on the input string\n",
    "        name = input_string.strip().replace(\" \", \"\") + \"LineDetails\"\n",
    "        fkentity = name + \"_Ext\"\n",
    "\n",
    "        # Check if a similar <onetoone> element already exists\n",
    "        xpath_expression = f\".//{{{namespace}}}param[@name='{parameter_name}']\"\n",
    "        existing_elements = root.findall(f'.//onetoone[@name=\"{name}\"][@fkentity=\"{fkentity}\"]')\n",
    "        if not existing_elements:\n",
    "            # Create the 'onetoone' element\n",
    "            onetoone_element = etree.Element('onetoone', desc=\"Foreign key to the Liability Line details\")\n",
    "\n",
    "            # Set attributes for the 'onetoone' element\n",
    "            onetoone_element.set('name', name)\n",
    "            onetoone_element.set('fkentity', fkentity)\n",
    "            onetoone_element.set('nullok', 'true')\n",
    "\n",
    "            # Add the 'onetoone' element to the root\n",
    "            root.append(onetoone_element)\n",
    "\n",
    "            # Write the updated XML back to the file\n",
    "            tree.write(file_path, encoding='utf-8', xml_declaration=True, pretty_print=True)\n",
    "        else:\n",
    "            print(\"Element already exists in the file. Nothing to add.\")\n",
    "    else:\n",
    "        # If the file does not exist, create a new file\n",
    "        create_xml_file(input_string, file_path)"
   ]
  },
  {
   "cell_type": "code",
   "execution_count": 189,
   "id": "162372ba-48d6-42e5-b296-72f8dd6384b8",
   "metadata": {},
   "outputs": [],
   "source": [
    "def create_eti_file(input_string, file_path):\n",
    "    # Create the root element\n",
    "    root = etree.Element('entity', xmlns=\"http://guidewire.com/datamodel\")\n",
    "\n",
    "    # Build entity, table, and name based on the input string\n",
    "    entity_name = input_string.strip().replace(\" \", \"\") + \"LineDetails_Ext\"\n",
    "    table_name = entity_name.lower()\n",
    "\n",
    "    # Set attributes for the 'entity' element\n",
    "    root.set('entity', entity_name)\n",
    "    root.set('desc', 'Extended fields for the new implemented line')\n",
    "    root.set('table', table_name)\n",
    "    root.set('type', 'retireable')\n",
    "\n",
    "    # Create the 'foreignkey' element\n",
    "    foreignkey_element = etree.SubElement(root, 'foreignkey', desc=\"Foreign key to the Policy Entity\")\n",
    "\n",
    "    # Build name based on the input string\n",
    "    name = input_string.strip().replace(\" \", \"\")\n",
    "\n",
    "    # Set attributes for the 'foreignkey' element\n",
    "    foreignkey_element.set('fkentity', 'Policy')\n",
    "    foreignkey_element.set('name', name)\n",
    "    foreignkey_element.set('nullok', 'true')\n",
    "\n",
    "    # Create the XML tree\n",
    "    tree = etree.ElementTree(root)\n",
    "\n",
    "    # Write the tree to the specified file path\n",
    "    file_name = f\"{input_string.strip().replace(' ', '')}LineDetails_Ext.eti\"\n",
    "    full_file_path = file_path + '/' + file_name\n",
    "    # Serialize the tree to a string and write it to the file\n",
    "    with open(full_file_path, 'wb') as file:\n",
    "        file.write(etree.tostring(root, encoding='utf-8', xml_declaration=True, pretty_print=True))\n"
   ]
  },
  {
   "cell_type": "markdown",
   "id": "9c3daf6a-9db7-45da-b60c-20e4c5b4de8b",
   "metadata": {},
   "source": [
    "### Create the entities in CC"
   ]
  },
  {
   "cell_type": "code",
   "execution_count": 185,
   "id": "578f0b67-128d-4ed1-885b-096f1fa614e2",
   "metadata": {},
   "outputs": [
    {
     "name": "stdin",
     "output_type": "stream",
     "text": [
      "Enter the new line of business reference code:  NLL\n"
     ]
    }
   ],
   "source": [
    "claimcenter_entities_path = claim_center_folder + configuration_pattern + \"/config/extensions/entity\"\n",
    "# Checks that folders exist otherwise return an error\n",
    "if not os.path.isdir(claimcenter_entities_path):\n",
    "    print(\"Invalid entity folder folder. ClaimCenter folder not found....\")\n",
    "\n",
    "# Get source folder from user\n",
    "line_of_business_code = input(\"Enter the new line of business reference code: \")\n",
    "\n",
    "#1. Create Policy.etx with one to one to the new entity\n",
    "add_policy_onetoone_ext(line_of_business_code, claimcenter_entities_path + \"/Policy.etx\")"
   ]
  },
  {
   "cell_type": "code",
   "execution_count": 190,
   "id": "4f199885-a516-4d9d-8b8a-d62d93d5470f",
   "metadata": {},
   "outputs": [],
   "source": [
    "#2. Create the NLLLineDetails_Ext.eti entity\n",
    "create_eti_file(line_of_business_code, claimcenter_entities_path)"
   ]
  },
  {
   "cell_type": "markdown",
   "id": "e6fbdeff-57ed-402d-8600-350204bf8cd9",
   "metadata": {},
   "source": [
    "Copy required typelist from PC to CC"
   ]
  },
  {
   "cell_type": "code",
   "execution_count": null,
   "id": "76691448-6168-40e0-bff5-d0a5b67ccc39",
   "metadata": {},
   "outputs": [],
   "source": [
    "policycenter_entities_path = policy_center_folder + configuration_pattern + \"/config/extensions/entity\"\n",
    "policycenter_typelist_path = policy_center_folder + configuration_pattern + \"/config/extensions/typelist\"\n",
    "claimcenter_typelist_path = claim_center_folder + configuration_pattern + \"/config/extensions/typelist\"\n",
    "\n",
    "\n",
    "\n",
    "def copy_typelists(file_path):\n",
    "    namespace = \"http://guidewire.com/datamodel\"\n",
    "     # Parse the XML file\n",
    "    tree = etree.parse(file_path)\n",
    "    root = tree.getroot()\n",
    "    \n",
    "    # Identify all the typelists and copy them into ClaimCenter folder\n",
    "    for child in root:\n",
    "        typekey_tag = \"{\" + f\"{namespace}\" + \"}typekey\"\n",
    "        if child.tag == typekey_tag:\n",
    "            typelist_name = child.get('typelist')+\".tti\"\n",
    "            source_file_path = os.path.join(policycenter_typelist_path, typelist_name)\n",
    "            destination_file_path = os.path.join(claimcenter_typelist_path, typelist_name)\n",
    "            try:\n",
    "                # Copy the file from source to destination\n",
    "                shutil.copy(source_file_path, destination_file_path)\n",
    "                print(f\"File {typelist_name} copied successfully from {policycenter_typelist_path} to {claimcenter_typelist_path}\")\n",
    "            except FileNotFoundError:\n",
    "                print(f\"File {typelist_name} not found in {policycenter_typelist_path}\")\n",
    "            except Exception as e:\n",
    "                print(f\"Error: {e}\")\n",
    "# Call the method to identify and print columns\n",
    "copy_typelists(policycenter_entities_path+\"/NLLLiabilityLine.eti\")\n"
   ]
  },
  {
   "cell_type": "code",
   "execution_count": 283,
   "id": "35ca369d-3971-4a7b-8fb0-2b01e2826844",
   "metadata": {},
   "outputs": [],
   "source": [
    "def copy_line_content(file_path_PC, file_path_CC):\n",
    "    namespace = \"{\" + \"http://guidewire.com/datamodel\" + \"}\"\n",
    "    # Parse the XML file\n",
    "    policycenterfile = etree.parse(file_path_PC)\n",
    "    policycenterfile_root = policycenterfile.getroot()\n",
    "    xpath_expression_typekey = f\".//{{}}typekey\".format(namespace)\n",
    "    xpath_expression_column = f\".//{{}}column\".format(namespace)\n",
    "    \n",
    "    typekeys = policycenterfile_root.findall(xpath_expression_typekey)\n",
    "    columns  = policycenterfile_root.findall(xpath_expression_column)\n",
    "\n",
    "    claimcenterfile = etree.parse(file_path_CC)\n",
    "    claimcenterfile_root = claimcenterfile.getroot()\n",
    "    \n",
    "    for typekey in typekeys:\n",
    "        claimcenterfile_root.append(typekey)\n",
    "    for column in columns:\n",
    "        claimcenterfile_root.append(column)\n",
    "    claimcenterfile.write(file_path_CC, encoding='utf-8', xml_declaration=True, pretty_print=True)\n",
    "\n",
    "# Call the method to identify and print columns\n",
    "copy_line_content(policycenter_entities_path+\"/NLLLiabilityLine.eti\",claimcenter_entities_path+\"/NLLLineDetails_Ext.eti\")"
   ]
  }
 ],
 "metadata": {
  "kernelspec": {
   "display_name": "Python 3 (ipykernel)",
   "language": "python",
   "name": "python3"
  },
  "language_info": {
   "codemirror_mode": {
    "name": "ipython",
    "version": 3
   },
   "file_extension": ".py",
   "mimetype": "text/x-python",
   "name": "python",
   "nbconvert_exporter": "python",
   "pygments_lexer": "ipython3",
   "version": "3.11.5"
  }
 },
 "nbformat": 4,
 "nbformat_minor": 5
}
